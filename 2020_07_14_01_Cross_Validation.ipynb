{
  "cells": [
    {
      "cell_type": "markdown",
      "metadata": {
        "id": "3uRp3dPV3aXJ"
      },
      "source": [
        "# Cross Validation\n",
        "> Holdout sets are a great start to model validation. However, using a single train and test set if often not enough. Cross-validation is considered the gold standard when it comes to validating model performance and is almost always used when tuning model hyper-parameters. This chapter focuses on performing cross-validation to validate model performance. This is the Summary of lecture \"Model Validation in Python\", via datacamp.\n",
        "\n",
        "- toc: true \n",
        "- badges: true\n",
        "- comments: true\n",
        "- author: Chanseok Kang\n",
        "- categories: [Python, Datacamp, Machine_Learning]\n",
        "- image: images/loocv.png"
      ]
    },
    {
      "cell_type": "code",
      "source": [
        ""
      ],
      "metadata": {
        "id": "wPwpDCYB3edM"
      },
      "execution_count": null,
      "outputs": []
    },
    {
      "cell_type": "code",
      "execution_count": null,
      "metadata": {
        "id": "6lbkB_hL3aYt"
      },
      "outputs": [],
      "source": [
        "import pandas as pd\n",
        "import numpy as np\n",
        "import matplotlib.pyplot as plt\n",
        "\n",
        "plt.rcParams['figure.figsize'] = (8, 8)"
      ]
    },
    {
      "cell_type": "markdown",
      "metadata": {
        "id": "KsWHCQRi3aZi"
      },
      "source": [
        "## The problems with holdout sets"
      ]
    },
    {
      "cell_type": "markdown",
      "metadata": {
        "id": "VU7Nb_Y73aZt"
      },
      "source": [
        "### Two samples\n",
        "After building several classification models based on the `tic_tac_toe` dataset, you realize that some models do not generalize as well as others. You have created training and testing splits just as you have been taught, so you are curious why your validation process is not working.\n",
        "\n",
        "After trying a different training, test split, you noticed differing accuracies for your machine learning model. Before getting too frustrated with the varying results, you have decided to see what else could be going on."
      ]
    },
    {
      "cell_type": "code",
      "execution_count": null,
      "metadata": {
        "id": "Qh90G8Bu3aaA",
        "outputId": "677c1987-52be-4679-e2bb-3e910d2c1855"
      },
      "outputs": [
        {
          "data": {
            "text/html": [
              "<div>\n",
              "<style scoped>\n",
              "    .dataframe tbody tr th:only-of-type {\n",
              "        vertical-align: middle;\n",
              "    }\n",
              "\n",
              "    .dataframe tbody tr th {\n",
              "        vertical-align: top;\n",
              "    }\n",
              "\n",
              "    .dataframe thead th {\n",
              "        text-align: right;\n",
              "    }\n",
              "</style>\n",
              "<table border=\"1\" class=\"dataframe\">\n",
              "  <thead>\n",
              "    <tr style=\"text-align: right;\">\n",
              "      <th></th>\n",
              "      <th>Top-Left</th>\n",
              "      <th>Top-Middle</th>\n",
              "      <th>Top-Right</th>\n",
              "      <th>Middle-Left</th>\n",
              "      <th>Middle-Middle</th>\n",
              "      <th>Middle-Right</th>\n",
              "      <th>Bottom-Left</th>\n",
              "      <th>Bottom-Middle</th>\n",
              "      <th>Bottom-Right</th>\n",
              "      <th>Class</th>\n",
              "    </tr>\n",
              "  </thead>\n",
              "  <tbody>\n",
              "    <tr>\n",
              "      <th>0</th>\n",
              "      <td>x</td>\n",
              "      <td>x</td>\n",
              "      <td>x</td>\n",
              "      <td>x</td>\n",
              "      <td>o</td>\n",
              "      <td>o</td>\n",
              "      <td>x</td>\n",
              "      <td>o</td>\n",
              "      <td>o</td>\n",
              "      <td>positive</td>\n",
              "    </tr>\n",
              "    <tr>\n",
              "      <th>1</th>\n",
              "      <td>x</td>\n",
              "      <td>x</td>\n",
              "      <td>x</td>\n",
              "      <td>x</td>\n",
              "      <td>o</td>\n",
              "      <td>o</td>\n",
              "      <td>o</td>\n",
              "      <td>x</td>\n",
              "      <td>o</td>\n",
              "      <td>positive</td>\n",
              "    </tr>\n",
              "    <tr>\n",
              "      <th>2</th>\n",
              "      <td>x</td>\n",
              "      <td>x</td>\n",
              "      <td>x</td>\n",
              "      <td>x</td>\n",
              "      <td>o</td>\n",
              "      <td>o</td>\n",
              "      <td>o</td>\n",
              "      <td>o</td>\n",
              "      <td>x</td>\n",
              "      <td>positive</td>\n",
              "    </tr>\n",
              "    <tr>\n",
              "      <th>3</th>\n",
              "      <td>x</td>\n",
              "      <td>x</td>\n",
              "      <td>x</td>\n",
              "      <td>x</td>\n",
              "      <td>o</td>\n",
              "      <td>o</td>\n",
              "      <td>o</td>\n",
              "      <td>b</td>\n",
              "      <td>b</td>\n",
              "      <td>positive</td>\n",
              "    </tr>\n",
              "    <tr>\n",
              "      <th>4</th>\n",
              "      <td>x</td>\n",
              "      <td>x</td>\n",
              "      <td>x</td>\n",
              "      <td>x</td>\n",
              "      <td>o</td>\n",
              "      <td>o</td>\n",
              "      <td>b</td>\n",
              "      <td>o</td>\n",
              "      <td>b</td>\n",
              "      <td>positive</td>\n",
              "    </tr>\n",
              "  </tbody>\n",
              "</table>\n",
              "</div>"
            ],
            "text/plain": [
              "  Top-Left Top-Middle Top-Right Middle-Left Middle-Middle Middle-Right  \\\n",
              "0        x          x         x           x             o            o   \n",
              "1        x          x         x           x             o            o   \n",
              "2        x          x         x           x             o            o   \n",
              "3        x          x         x           x             o            o   \n",
              "4        x          x         x           x             o            o   \n",
              "\n",
              "  Bottom-Left Bottom-Middle Bottom-Right     Class  \n",
              "0           x             o            o  positive  \n",
              "1           o             x            o  positive  \n",
              "2           o             o            x  positive  \n",
              "3           o             b            b  positive  \n",
              "4           b             o            b  positive  "
            ]
          },
          "execution_count": 2,
          "metadata": {},
          "output_type": "execute_result"
        }
      ],
      "source": [
        "tic_tac_toe = pd.read_csv('./dataset/tic-tac-toe.csv')\n",
        "tic_tac_toe.head()"
      ]
    },
    {
      "cell_type": "code",
      "execution_count": null,
      "metadata": {
        "id": "-0uXSSiS3aam",
        "outputId": "f38d65e4-53fb-4816-ec2b-b8607ff68a09"
      },
      "outputs": [
        {
          "name": "stdout",
          "output_type": "stream",
          "text": [
            "40\n",
            "positive    134\n",
            "negative     66\n",
            "Name: Class, dtype: int64\n",
            "positive    123\n",
            "negative     77\n",
            "Name: Class, dtype: int64\n"
          ]
        }
      ],
      "source": [
        "# Create two different samples of 200 observations\n",
        "sample1 = tic_tac_toe.sample(n=200, random_state=1111)\n",
        "sample2 = tic_tac_toe.sample(n=200, random_state=1171)\n",
        "\n",
        "# Print the number of common observations\n",
        "print(len([index for index in sample1.index if index in sample2.index]))\n",
        "\n",
        "# Print the number of observations in the Class column for both samples\n",
        "print(sample1['Class'].value_counts())\n",
        "print(sample2['Class'].value_counts())"
      ]
    },
    {
      "cell_type": "markdown",
      "metadata": {
        "id": "o3kYzsww3abA"
      },
      "source": [
        "Notice that there are a varying number of positive observations for both sample test sets. Sometimes creating a single test holdout sample is not enough to achieve the high levels of model validation you want. You need to use something more robust."
      ]
    },
    {
      "cell_type": "markdown",
      "metadata": {
        "id": "k8SHLpV43abM"
      },
      "source": [
        "## Cross-validation\n",
        "![cv](https://github.com/goodboychan/chans_jupyter/blob/main/_notebooks/image/cv.png?raw=1)"
      ]
    },
    {
      "cell_type": "markdown",
      "metadata": {
        "id": "e-GBDy4B3abS"
      },
      "source": [
        "### scikit-learn's KFold()\n",
        "You just finished running a colleagues code that creates a random forest model and calculates an out-of-sample accuracy. You noticed that your colleague's code did not have a random state, and the errors you found were completely different than the errors your colleague reported.\n",
        "\n",
        "To get a better estimate for how accurate this random forest model will be on new data, you have decided to generate some indices to use for KFold cross-validation."
      ]
    },
    {
      "cell_type": "code",
      "execution_count": null,
      "metadata": {
        "id": "mPiQYQnD3abf",
        "outputId": "c44e5d5d-28b5-489d-be32-79d85fd0ff9e"
      },
      "outputs": [
        {
          "data": {
            "text/html": [
              "<div>\n",
              "<style scoped>\n",
              "    .dataframe tbody tr th:only-of-type {\n",
              "        vertical-align: middle;\n",
              "    }\n",
              "\n",
              "    .dataframe tbody tr th {\n",
              "        vertical-align: top;\n",
              "    }\n",
              "\n",
              "    .dataframe thead th {\n",
              "        text-align: right;\n",
              "    }\n",
              "</style>\n",
              "<table border=\"1\" class=\"dataframe\">\n",
              "  <thead>\n",
              "    <tr style=\"text-align: right;\">\n",
              "      <th></th>\n",
              "      <th>competitorname</th>\n",
              "      <th>chocolate</th>\n",
              "      <th>fruity</th>\n",
              "      <th>caramel</th>\n",
              "      <th>peanutyalmondy</th>\n",
              "      <th>nougat</th>\n",
              "      <th>crispedricewafer</th>\n",
              "      <th>hard</th>\n",
              "      <th>bar</th>\n",
              "      <th>pluribus</th>\n",
              "      <th>sugarpercent</th>\n",
              "      <th>pricepercent</th>\n",
              "      <th>winpercent</th>\n",
              "    </tr>\n",
              "  </thead>\n",
              "  <tbody>\n",
              "    <tr>\n",
              "      <th>0</th>\n",
              "      <td>100 Grand</td>\n",
              "      <td>1</td>\n",
              "      <td>0</td>\n",
              "      <td>1</td>\n",
              "      <td>0</td>\n",
              "      <td>0</td>\n",
              "      <td>1</td>\n",
              "      <td>0</td>\n",
              "      <td>1</td>\n",
              "      <td>0</td>\n",
              "      <td>0.732</td>\n",
              "      <td>0.860</td>\n",
              "      <td>66.971725</td>\n",
              "    </tr>\n",
              "    <tr>\n",
              "      <th>1</th>\n",
              "      <td>3 Musketeers</td>\n",
              "      <td>1</td>\n",
              "      <td>0</td>\n",
              "      <td>0</td>\n",
              "      <td>0</td>\n",
              "      <td>1</td>\n",
              "      <td>0</td>\n",
              "      <td>0</td>\n",
              "      <td>1</td>\n",
              "      <td>0</td>\n",
              "      <td>0.604</td>\n",
              "      <td>0.511</td>\n",
              "      <td>67.602936</td>\n",
              "    </tr>\n",
              "    <tr>\n",
              "      <th>2</th>\n",
              "      <td>One dime</td>\n",
              "      <td>0</td>\n",
              "      <td>0</td>\n",
              "      <td>0</td>\n",
              "      <td>0</td>\n",
              "      <td>0</td>\n",
              "      <td>0</td>\n",
              "      <td>0</td>\n",
              "      <td>0</td>\n",
              "      <td>0</td>\n",
              "      <td>0.011</td>\n",
              "      <td>0.116</td>\n",
              "      <td>32.261086</td>\n",
              "    </tr>\n",
              "    <tr>\n",
              "      <th>3</th>\n",
              "      <td>One quarter</td>\n",
              "      <td>0</td>\n",
              "      <td>0</td>\n",
              "      <td>0</td>\n",
              "      <td>0</td>\n",
              "      <td>0</td>\n",
              "      <td>0</td>\n",
              "      <td>0</td>\n",
              "      <td>0</td>\n",
              "      <td>0</td>\n",
              "      <td>0.011</td>\n",
              "      <td>0.511</td>\n",
              "      <td>46.116505</td>\n",
              "    </tr>\n",
              "    <tr>\n",
              "      <th>4</th>\n",
              "      <td>Air Heads</td>\n",
              "      <td>0</td>\n",
              "      <td>1</td>\n",
              "      <td>0</td>\n",
              "      <td>0</td>\n",
              "      <td>0</td>\n",
              "      <td>0</td>\n",
              "      <td>0</td>\n",
              "      <td>0</td>\n",
              "      <td>0</td>\n",
              "      <td>0.906</td>\n",
              "      <td>0.511</td>\n",
              "      <td>52.341465</td>\n",
              "    </tr>\n",
              "  </tbody>\n",
              "</table>\n",
              "</div>"
            ],
            "text/plain": [
              "  competitorname  chocolate  fruity  caramel  peanutyalmondy  nougat  \\\n",
              "0      100 Grand          1       0        1               0       0   \n",
              "1   3 Musketeers          1       0        0               0       1   \n",
              "2       One dime          0       0        0               0       0   \n",
              "3    One quarter          0       0        0               0       0   \n",
              "4      Air Heads          0       1        0               0       0   \n",
              "\n",
              "   crispedricewafer  hard  bar  pluribus  sugarpercent  pricepercent  \\\n",
              "0                 1     0    1         0         0.732         0.860   \n",
              "1                 0     0    1         0         0.604         0.511   \n",
              "2                 0     0    0         0         0.011         0.116   \n",
              "3                 0     0    0         0         0.011         0.511   \n",
              "4                 0     0    0         0         0.906         0.511   \n",
              "\n",
              "   winpercent  \n",
              "0   66.971725  \n",
              "1   67.602936  \n",
              "2   32.261086  \n",
              "3   46.116505  \n",
              "4   52.341465  "
            ]
          },
          "execution_count": 4,
          "metadata": {},
          "output_type": "execute_result"
        }
      ],
      "source": [
        "candy = pd.read_csv('./dataset/candy-data.csv')\n",
        "candy.head()"
      ]
    },
    {
      "cell_type": "code",
      "execution_count": null,
      "metadata": {
        "id": "-FHRtgOs3abp"
      },
      "outputs": [],
      "source": [
        "X = candy.drop(['competitorname', 'winpercent'], axis=1).to_numpy()\n",
        "y = candy['winpercent'].to_numpy()"
      ]
    },
    {
      "cell_type": "code",
      "execution_count": null,
      "metadata": {
        "id": "ZlbFB80e3ab3",
        "outputId": "916d753f-89a0-44f5-d928-d004e2af5c2d"
      },
      "outputs": [
        {
          "name": "stdout",
          "output_type": "stream",
          "text": [
            "Number of training indices: 68\n",
            "Number of validation indices: 17\n",
            "Number of training indices: 68\n",
            "Number of validation indices: 17\n",
            "Number of training indices: 68\n",
            "Number of validation indices: 17\n",
            "Number of training indices: 68\n",
            "Number of validation indices: 17\n",
            "Number of training indices: 68\n",
            "Number of validation indices: 17\n"
          ]
        }
      ],
      "source": [
        "from sklearn.model_selection import KFold\n",
        "\n",
        "# Use KFold\n",
        "kf = KFold(n_splits=5, shuffle=True, random_state=1111)\n",
        "\n",
        "# Create splits\n",
        "splits = kf.split(X)\n",
        "\n",
        "# Print the number of indices\n",
        "for train_index, val_index in splits:\n",
        "    print(\"Number of training indices: %s\" % len(train_index))\n",
        "    print(\"Number of validation indices: %s\" % len(val_index))"
      ]
    },
    {
      "cell_type": "markdown",
      "metadata": {
        "id": "EKLU8oRZ3acE"
      },
      "source": [
        "This dataset has 85 rows. You have created five splits - each containing 68 training and 17 validation indices. You can use these indices to complete 5-fold cross-validation."
      ]
    },
    {
      "cell_type": "markdown",
      "metadata": {
        "id": "ylRuEl5I3acJ"
      },
      "source": [
        "### Using KFold indices\n",
        "You have already created `splits`, which contains indices for the candy-data dataset to complete 5-fold cross-validation. To get a better estimate for how well a colleague's random forest model will perform on a new data, you want to run this model on the five different training and validation indices you just created.\n",
        "\n",
        "In this exercise, you will use these indices to check the accuracy of this model using the five different splits. A for loop has been provided to assist with this process."
      ]
    },
    {
      "cell_type": "code",
      "execution_count": null,
      "metadata": {
        "id": "iqH2-b-F3acQ"
      },
      "outputs": [],
      "source": [
        "# Create splits\n",
        "splits = kf.split(X)"
      ]
    },
    {
      "cell_type": "code",
      "execution_count": null,
      "metadata": {
        "id": "sR3SR5L53acT",
        "outputId": "064c156f-7fea-4b4f-fbfb-66336a2ac628"
      },
      "outputs": [
        {
          "name": "stdout",
          "output_type": "stream",
          "text": [
            "Split accuracy: 151.5028145199104\n",
            "Split accuracy: 173.4624060357644\n",
            "Split accuracy: 132.7340977072911\n",
            "Split accuracy: 81.50364942339418\n",
            "Split accuracy: 217.17904656079338\n"
          ]
        }
      ],
      "source": [
        "from sklearn.ensemble import RandomForestRegressor\n",
        "from sklearn.metrics import mean_squared_error\n",
        "\n",
        "rfc = RandomForestRegressor(n_estimators=25, random_state=1111)\n",
        "\n",
        "# Access the training and validation indices of splits\n",
        "for train_index, val_index in splits:\n",
        "    # Setup the training and validation data\n",
        "    X_train, y_train = X[train_index], y[train_index]\n",
        "    X_val, y_val = X[val_index], y[val_index]\n",
        "    \n",
        "    # Fit the random forest model\n",
        "    rfc.fit(X_train, y_train)\n",
        "    \n",
        "    # Make predictions, and print the accuracy\n",
        "    predictions = rfc.predict(X_val)\n",
        "    print(\"Split accuracy: \" + str(mean_squared_error(y_val, predictions)))"
      ]
    },
    {
      "cell_type": "markdown",
      "metadata": {
        "id": "U2oYhY3E3aco"
      },
      "source": [
        "`KFold()` is a great method for accessing individual indices when completing cross-validation. One drawback is needing a for loop to work through the indices though."
      ]
    },
    {
      "cell_type": "markdown",
      "metadata": {
        "id": "UYaW7LcR3ac0"
      },
      "source": [
        "## sklearn's cross_val_score()"
      ]
    },
    {
      "cell_type": "markdown",
      "metadata": {
        "id": "2TEC8dQW3ac7"
      },
      "source": [
        "### scikit-learn's methods\n",
        "You have decided to build a regression model to predict the number of new employees your company will successfully hire next month. You open up a new Python script to get started, but you quickly realize that sklearn has a lot of different modules. Let's make sure you understand the names of the modules, the methods, and which module contains which method.\n",
        "\n",
        "Follow the instructions below to load in all of the necessary methods for completing cross-validation using sklearn. You will use modules:\n",
        "\n",
        "- metrics\n",
        "- model_selection\n",
        "- ensemble"
      ]
    },
    {
      "cell_type": "code",
      "execution_count": null,
      "metadata": {
        "id": "5qEIPrRe3adD"
      },
      "outputs": [],
      "source": [
        "from sklearn.model_selection import cross_val_score\n",
        "from sklearn.ensemble import RandomForestRegressor\n",
        "from sklearn.metrics import mean_squared_error, make_scorer"
      ]
    },
    {
      "cell_type": "markdown",
      "metadata": {
        "id": "SC3PfEUm3adI"
      },
      "source": [
        "### Implement cross_val_score()\n",
        "Your company has created several new candies to sell, but they are not sure if they should release all five of them. To predict the popularity of these new candies, you have been asked to build a regression model using the candy dataset. Remember that the response value is a head-to-head win-percentage against other candies.\n",
        "\n",
        "Before you begin trying different regression models, you have decided to run cross-validation on a simple random forest model to get a baseline error to compare with any future results."
      ]
    },
    {
      "cell_type": "code",
      "execution_count": null,
      "metadata": {
        "id": "PnqOcIAM3adM",
        "outputId": "c5a2b905-9115-47c5-9563-812f38a8e83a"
      },
      "outputs": [
        {
          "name": "stdout",
          "output_type": "stream",
          "text": [
            "130.91371947185584\n"
          ]
        }
      ],
      "source": [
        "rfc = RandomForestRegressor(n_estimators=25, random_state=1111)\n",
        "mse = make_scorer(mean_squared_error)\n",
        "\n",
        "# Setup cross_val_score\n",
        "cv = cross_val_score(estimator=rfc, X=X_train, y=y_train, cv=10, scoring=mse)\n",
        "\n",
        "# Print the mean error\n",
        "print(cv.mean())"
      ]
    },
    {
      "cell_type": "markdown",
      "metadata": {
        "id": "ekYlZ3SK3adS"
      },
      "source": [
        "You now have a baseline score to build on. If you decide to build additional models or try new techniques, you should try to get an error lower than 155.56. Lower errors indicate that your popularity predictions are improving."
      ]
    },
    {
      "cell_type": "markdown",
      "metadata": {
        "id": "HBkdSSQC3adb"
      },
      "source": [
        "## Leave-one-out-cross-validation (LOOCV)\n",
        "- LOOCV\n",
        "![loocv](https://github.com/goodboychan/chans_jupyter/blob/main/_notebooks/image/loocv.png?raw=1)\n",
        "- When to use LOOCV?\n",
        "    - The amount of training data is limited\n",
        "    - You want the absolute best error estimate for new data\n",
        "- Be cautious when:\n",
        "    - Computation resources are limited\n",
        "    - You have a lot of data\n",
        "    - You have a lot of parameters to test"
      ]
    },
    {
      "cell_type": "markdown",
      "metadata": {
        "id": "XjEOUK5L3adg"
      },
      "source": [
        "### Leave-one-out-cross-validation\n",
        "Let's assume your favorite candy is not in the candy dataset, and that you are interested in the popularity of this candy. Using 5-fold cross-validation will train on only 80% of the data at a time. The candy dataset only has 85 rows though, and leaving out 20% of the data could hinder our model. However, using leave-one-out-cross-validation allows us to make the most out of our limited dataset and will give you the best estimate for your favorite candy's popularity!\n",
        "\n"
      ]
    },
    {
      "cell_type": "code",
      "execution_count": null,
      "metadata": {
        "id": "CoWD4x0_3adl",
        "outputId": "b2718f91-dbe2-4ab3-ddc6-147d7892fc40"
      },
      "outputs": [
        {
          "name": "stdout",
          "output_type": "stream",
          "text": [
            "The mean of the errors is: 9.464989603398694.\n",
            "The standard deviation of the errors is: 7.265762094853885.\n"
          ]
        }
      ],
      "source": [
        "from sklearn.metrics import mean_absolute_error\n",
        "# Create scorer\n",
        "mae_scorer = make_scorer(mean_absolute_error)\n",
        "\n",
        "rfr = RandomForestRegressor(n_estimators=15, random_state=1111)\n",
        "\n",
        "# Implement LOOCV\n",
        "scores = cross_val_score(rfr, X, y, cv=85, scoring=mae_scorer)\n",
        "\n",
        "# Print the mean and standard deviation\n",
        "print(\"The mean of the errors is: %s.\" % np.mean(scores))\n",
        "print(\"The standard deviation of the errors is: %s.\" % np.std(scores))"
      ]
    },
    {
      "cell_type": "markdown",
      "metadata": {
        "id": "_C56UY3j3adu"
      },
      "source": [
        "You have come along way with model validation techniques. The final chapter will wrap up model validation by discussing how to select the best model and give an introduction to parameter tuning."
      ]
    }
  ],
  "metadata": {
    "kernelspec": {
      "display_name": "Python 3",
      "language": "python",
      "name": "python3"
    },
    "language_info": {
      "codemirror_mode": {
        "name": "ipython",
        "version": 3
      },
      "file_extension": ".py",
      "mimetype": "text/x-python",
      "name": "python",
      "nbconvert_exporter": "python",
      "pygments_lexer": "ipython3",
      "version": "3.7.6"
    },
    "colab": {
      "name": "2020-07-14-01-Cross-Validation.ipynb",
      "provenance": []
    }
  },
  "nbformat": 4,
  "nbformat_minor": 0
}